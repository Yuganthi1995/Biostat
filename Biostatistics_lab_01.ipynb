{
  "nbformat": 4,
  "nbformat_minor": 0,
  "metadata": {
    "colab": {
      "name": "Biostatistics lab 01.ipynb",
      "provenance": [],
      "include_colab_link": true
    },
    "kernelspec": {
      "name": "python3",
      "display_name": "Python 3"
    }
  },
  "cells": [
    {
      "cell_type": "markdown",
      "metadata": {
        "id": "view-in-github",
        "colab_type": "text"
      },
      "source": [
        "<a href=\"https://colab.research.google.com/github/Yuganthi1995/Biostat/blob/master/Biostatistics_lab_01.ipynb\" target=\"_parent\"><img src=\"https://colab.research.google.com/assets/colab-badge.svg\" alt=\"Open In Colab\"/></a>"
      ]
    },
    {
      "cell_type": "code",
      "metadata": {
        "id": "MIuZBvU-zuJB",
        "outputId": "7dbd3e70-63a7-4ce8-bf8b-f28856b16de0",
        "colab": {
          "base_uri": "https://localhost:8080/",
          "height": 34
        }
      },
      "source": [
        "# print command use for print something\n",
        "print ('Hello World')"
      ],
      "execution_count": null,
      "outputs": [
        {
          "output_type": "stream",
          "text": [
            "Hello World\n"
          ],
          "name": "stdout"
        }
      ]
    },
    {
      "cell_type": "code",
      "metadata": {
        "id": "zsZGbg-Zz5CW",
        "outputId": "73b5b56d-81de-4fc5-ba6c-ddf6e7fd289e",
        "colab": {
          "base_uri": "https://localhost:8080/",
          "height": 34
        }
      },
      "source": [
        "# we can find the true false about a condition \n",
        "2>3"
      ],
      "execution_count": null,
      "outputs": [
        {
          "output_type": "execute_result",
          "data": {
            "text/plain": [
              "False"
            ]
          },
          "metadata": {
            "tags": []
          },
          "execution_count": 3
        }
      ]
    },
    {
      "cell_type": "code",
      "metadata": {
        "id": "fvvxm-mo0YGQ"
      },
      "source": [
        "# two types to make comments this is the first one and second one is \n",
        "\n"
      ],
      "execution_count": null,
      "outputs": []
    },
    {
      "cell_type": "code",
      "metadata": {
        "id": "lSrW1O-Yz_1C",
        "outputId": "53bc8477-c554-4eb6-f483-bc71cebf2302",
        "colab": {
          "base_uri": "https://localhost:8080/",
          "height": 35
        }
      },
      "source": [
        "'''\n",
        "JDKASC\n",
        "'''"
      ],
      "execution_count": null,
      "outputs": [
        {
          "output_type": "execute_result",
          "data": {
            "application/vnd.google.colaboratory.intrinsic+json": {
              "type": "string"
            },
            "text/plain": [
              "'\\nJDKASC\\n'"
            ]
          },
          "metadata": {
            "tags": []
          },
          "execution_count": 5
        }
      ]
    },
    {
      "cell_type": "code",
      "metadata": {
        "id": "g7dfAriG0i2S"
      },
      "source": [
        "#Variables\n",
        "\n",
        "age = 30"
      ],
      "execution_count": null,
      "outputs": []
    },
    {
      "cell_type": "code",
      "metadata": {
        "id": "SJh9SimI0tHF",
        "outputId": "f41c92c7-9c9b-4cb7-9499-42f7a4801e88",
        "colab": {
          "base_uri": "https://localhost:8080/",
          "height": 34
        }
      },
      "source": [
        "age"
      ],
      "execution_count": null,
      "outputs": [
        {
          "output_type": "execute_result",
          "data": {
            "text/plain": [
              "30"
            ]
          },
          "metadata": {
            "tags": []
          },
          "execution_count": 7
        }
      ]
    },
    {
      "cell_type": "code",
      "metadata": {
        "id": "ls6fInx20thk"
      },
      "source": [
        "age , name = 30 , 'peter'"
      ],
      "execution_count": null,
      "outputs": []
    },
    {
      "cell_type": "code",
      "metadata": {
        "id": "1VZHYyTi0wOS",
        "outputId": "bcb423f9-f17c-4c58-db67-311febb96f3c",
        "colab": {
          "base_uri": "https://localhost:8080/",
          "height": 35
        }
      },
      "source": [
        "name"
      ],
      "execution_count": null,
      "outputs": [
        {
          "output_type": "execute_result",
          "data": {
            "application/vnd.google.colaboratory.intrinsic+json": {
              "type": "string"
            },
            "text/plain": [
              "'peter'"
            ]
          },
          "metadata": {
            "tags": []
          },
          "execution_count": 10
        }
      ]
    },
    {
      "cell_type": "markdown",
      "metadata": {
        "id": "am65U6-j08di"
      },
      "source": [
        "A variable name in Python can only contain letters (a - z, A - B),\n",
        "numbers or underscores (_). However, the first character cannot be\n",
        "a number. Hence, you can name your variables userName,\n",
        "user_name or userName2 but not 2userName."
      ]
    },
    {
      "cell_type": "code",
      "metadata": {
        "id": "SQgtqYfo0-Le",
        "outputId": "0c346649-b742-4748-9257-c59905d19aa3",
        "colab": {
          "base_uri": "https://localhost:8080/",
          "height": 51
        }
      },
      "source": [
        "# assignment\n",
        "x = 5\n",
        "y = 10\n",
        "x = y\n",
        "print (\"x = \", x)\n",
        "print (\"y = \", y)"
      ],
      "execution_count": null,
      "outputs": [
        {
          "output_type": "stream",
          "text": [
            "x =  10\n",
            "y =  10\n"
          ],
          "name": "stdout"
        }
      ]
    },
    {
      "cell_type": "code",
      "metadata": {
        "id": "zFo8Zy3f0-N5"
      },
      "source": [
        "#basic operators\n",
        "x = 5\n",
        "y = 2"
      ],
      "execution_count": null,
      "outputs": []
    },
    {
      "cell_type": "code",
      "metadata": {
        "id": "kGNqkjLE0-Qb",
        "outputId": "c3c33b14-c72e-43fb-8b4b-36d2b557b816",
        "colab": {
          "base_uri": "https://localhost:8080/",
          "height": 34
        }
      },
      "source": [
        "x+y"
      ],
      "execution_count": null,
      "outputs": [
        {
          "output_type": "execute_result",
          "data": {
            "text/plain": [
              "7"
            ]
          },
          "metadata": {
            "tags": []
          },
          "execution_count": 17
        }
      ]
    },
    {
      "cell_type": "code",
      "metadata": {
        "id": "v7oPu5Fy0-XN",
        "outputId": "6e3278c1-decc-4257-d152-0a0837ac5813",
        "colab": {
          "base_uri": "https://localhost:8080/",
          "height": 34
        }
      },
      "source": [
        "# expoenent \n",
        "x**y"
      ],
      "execution_count": null,
      "outputs": [
        {
          "output_type": "execute_result",
          "data": {
            "text/plain": [
              "25"
            ]
          },
          "metadata": {
            "tags": []
          },
          "execution_count": 18
        }
      ]
    },
    {
      "cell_type": "code",
      "metadata": {
        "id": "za0h4gJA0-aM"
      },
      "source": [
        "x=10\n",
        "x=x+2"
      ],
      "execution_count": null,
      "outputs": []
    },
    {
      "cell_type": "code",
      "metadata": {
        "id": "-XVfn3Z11xKH",
        "outputId": "a4115826-2ea3-4fc2-89a2-fd27aee6231f",
        "colab": {
          "base_uri": "https://localhost:8080/",
          "height": 34
        }
      },
      "source": [
        "x"
      ],
      "execution_count": null,
      "outputs": [
        {
          "output_type": "execute_result",
          "data": {
            "text/plain": [
              "12"
            ]
          },
          "metadata": {
            "tags": []
          },
          "execution_count": 20
        }
      ]
    },
    {
      "cell_type": "markdown",
      "metadata": {
        "id": "GdzNu30H112O"
      },
      "source": [
        "Instead of writing x = x + 2, we can also write x += 2 to express\n",
        "the same meaning. The += sign is actually a shorthand that\n",
        "combines the assignment sign with the addition operator. Hence, x\n",
        "+= 2 simply means x = x + 2."
      ]
    },
    {
      "cell_type": "code",
      "metadata": {
        "id": "KnrqKxjk12Zq"
      },
      "source": [
        "x+=2"
      ],
      "execution_count": null,
      "outputs": []
    },
    {
      "cell_type": "code",
      "metadata": {
        "id": "ZNJgg9f-12cN",
        "outputId": "8a89a5e8-dd66-4a97-9edf-997e05ba5525",
        "colab": {
          "base_uri": "https://localhost:8080/",
          "height": 34
        }
      },
      "source": [
        "x"
      ],
      "execution_count": null,
      "outputs": [
        {
          "output_type": "execute_result",
          "data": {
            "text/plain": [
              "14"
            ]
          },
          "metadata": {
            "tags": []
          },
          "execution_count": 22
        }
      ]
    },
    {
      "cell_type": "markdown",
      "metadata": {
        "id": "T0Y4eIha2D-R"
      },
      "source": [
        "To declare a string, you can either use variableName =\n",
        "‘initial value’ (single quotes) or variableName =\n",
        "“initial value” (double quotes)"
      ]
    },
    {
      "cell_type": "code",
      "metadata": {
        "id": "9mLFv-_t2Ew8"
      },
      "source": [
        "userName = 'Peter'\n",
        "userSpouseName = \"Janet\",\n",
        "userAge = '30'"
      ],
      "execution_count": null,
      "outputs": []
    },
    {
      "cell_type": "code",
      "metadata": {
        "id": "Sa3Dr6ge12e1",
        "outputId": "5580cb11-e3a8-4dab-eec7-e6e9afdd26e8",
        "colab": {
          "base_uri": "https://localhost:8080/",
          "height": 35
        }
      },
      "source": [
        "# convert all charasters into upercases\n",
        "userName.upper()"
      ],
      "execution_count": null,
      "outputs": [
        {
          "output_type": "execute_result",
          "data": {
            "application/vnd.google.colaboratory.intrinsic+json": {
              "type": "string"
            },
            "text/plain": [
              "'PETER'"
            ]
          },
          "metadata": {
            "tags": []
          },
          "execution_count": 25
        }
      ]
    },
    {
      "cell_type": "code",
      "metadata": {
        "id": "9Ps2A9hm12gp"
      },
      "source": [
        "# formatting using % operator\n",
        "brand = 'Apple'\n",
        "exchangeRate = 1.235235245"
      ],
      "execution_count": null,
      "outputs": []
    },
    {
      "cell_type": "code",
      "metadata": {
        "id": "9e_gelVb12kB"
      },
      "source": [
        "message = 'The price of this %s laptop is %d USD and the exchange rate is %4.2f USD to 1 EUR' %(brand, 1299, exchangeRate)"
      ],
      "execution_count": null,
      "outputs": []
    },
    {
      "cell_type": "code",
      "metadata": {
        "id": "rLYGblUp12mX",
        "outputId": "8181bda2-dd3e-4ce8-a283-239298c368c8",
        "colab": {
          "base_uri": "https://localhost:8080/",
          "height": 34
        }
      },
      "source": [
        "print(message)"
      ],
      "execution_count": null,
      "outputs": [
        {
          "output_type": "stream",
          "text": [
            "The price of this Apple laptop is 1299 USD and the exchange rate is 1.24 USD to 1 EUR\n"
          ],
          "name": "stdout"
        }
      ]
    },
    {
      "cell_type": "code",
      "metadata": {
        "id": "g0pFqdRZ5mW5",
        "outputId": "dd1ba72a-1a77-4408-e4c5-6402765f0b95",
        "colab": {
          "base_uri": "https://localhost:8080/",
          "height": 35
        }
      },
      "source": [
        "#type casting\n",
        "str(2.1)"
      ],
      "execution_count": null,
      "outputs": [
        {
          "output_type": "execute_result",
          "data": {
            "application/vnd.google.colaboratory.intrinsic+json": {
              "type": "string"
            },
            "text/plain": [
              "'2.1'"
            ]
          },
          "metadata": {
            "tags": []
          },
          "execution_count": 33
        }
      ]
    },
    {
      "cell_type": "code",
      "metadata": {
        "id": "pB1-Oaw95maZ"
      },
      "source": [
        "#List\n",
        "userAge = [21, 22, 23, 24, 25]"
      ],
      "execution_count": null,
      "outputs": []
    },
    {
      "cell_type": "code",
      "metadata": {
        "id": "qwTEei0s7N7M",
        "outputId": "17b026c9-564d-458b-9668-771565062ea2",
        "colab": {
          "base_uri": "https://localhost:8080/",
          "height": 34
        }
      },
      "source": [
        "userAge[0]"
      ],
      "execution_count": null,
      "outputs": [
        {
          "output_type": "execute_result",
          "data": {
            "text/plain": [
              "21"
            ]
          },
          "metadata": {
            "tags": []
          },
          "execution_count": 39
        }
      ]
    },
    {
      "cell_type": "code",
      "metadata": {
        "id": "Wh6HZUH07Pjd",
        "outputId": "ad4b19de-fd0e-4799-ddb1-be3856519055",
        "colab": {
          "base_uri": "https://localhost:8080/",
          "height": 34
        }
      },
      "source": [
        "userAge[-1]"
      ],
      "execution_count": null,
      "outputs": [
        {
          "output_type": "execute_result",
          "data": {
            "text/plain": [
              "25"
            ]
          },
          "metadata": {
            "tags": []
          },
          "execution_count": 40
        }
      ]
    },
    {
      "cell_type": "code",
      "metadata": {
        "id": "TrPFZ9py5mdB"
      },
      "source": [
        "# declare a empty variable and then we can use append() to add some items into our variable\n",
        "listName = []"
      ],
      "execution_count": null,
      "outputs": []
    },
    {
      "cell_type": "code",
      "metadata": {
        "id": "Z5R8gnSP5mfz"
      },
      "source": [
        "userAge.append('hello')"
      ],
      "execution_count": null,
      "outputs": []
    },
    {
      "cell_type": "code",
      "metadata": {
        "id": "7BfiHtAS5mik",
        "outputId": "850210a6-df74-4bbe-b679-8876d4dcdcf7",
        "colab": {
          "base_uri": "https://localhost:8080/",
          "height": 34
        }
      },
      "source": [
        "userAge"
      ],
      "execution_count": null,
      "outputs": [
        {
          "output_type": "execute_result",
          "data": {
            "text/plain": [
              "[21, 22, 23, 24, 25, 'hello']"
            ]
          },
          "metadata": {
            "tags": []
          },
          "execution_count": 43
        }
      ]
    },
    {
      "cell_type": "code",
      "metadata": {
        "id": "4LpSOe6n5ml4"
      },
      "source": [
        "# delete a value\n",
        "del userAge[5]"
      ],
      "execution_count": null,
      "outputs": []
    },
    {
      "cell_type": "code",
      "metadata": {
        "id": "y5Y_UdGG1xq4",
        "outputId": "32cd2179-6f33-456a-ab0d-e3bfbb9a8311",
        "colab": {
          "base_uri": "https://localhost:8080/",
          "height": 34
        }
      },
      "source": [
        "userAge"
      ],
      "execution_count": null,
      "outputs": [
        {
          "output_type": "execute_result",
          "data": {
            "text/plain": [
              "[21, 22, 23, 24, 25]"
            ]
          },
          "metadata": {
            "tags": []
          },
          "execution_count": 45
        }
      ]
    },
    {
      "cell_type": "code",
      "metadata": {
        "id": "L8R7o-Fl7---"
      },
      "source": [
        "#dictionery\n",
        "myDictionary = {'Peter':38, 'John':51, 'Peter':13}"
      ],
      "execution_count": null,
      "outputs": []
    },
    {
      "cell_type": "code",
      "metadata": {
        "id": "bVJ5AeMY8TEk",
        "outputId": "00545cc9-055e-470e-8aab-191475bcb0b6",
        "colab": {
          "base_uri": "https://localhost:8080/",
          "height": 34
        }
      },
      "source": [
        "myDictionary"
      ],
      "execution_count": null,
      "outputs": [
        {
          "output_type": "execute_result",
          "data": {
            "text/plain": [
              "{'John': 51, 'Peter': 13}"
            ]
          },
          "metadata": {
            "tags": []
          },
          "execution_count": 49
        }
      ]
    },
    {
      "cell_type": "code",
      "metadata": {
        "id": "R84irLbj8ZOn"
      },
      "source": [
        "#different data typoes\n",
        "myDict = {'One':1.35, 2.5:'Two Point Five', 3:'+',7.9:2}"
      ],
      "execution_count": null,
      "outputs": []
    },
    {
      "cell_type": "code",
      "metadata": {
        "id": "A57eU_3m8hXA",
        "outputId": "1562ef5e-78a7-4067-897a-5df08b7997d9",
        "colab": {
          "base_uri": "https://localhost:8080/",
          "height": 34
        }
      },
      "source": [
        "myDict"
      ],
      "execution_count": null,
      "outputs": [
        {
          "output_type": "execute_result",
          "data": {
            "text/plain": [
              "{2.5: 'Two Point Five', 3: '+', 7.9: 2, 'One': 1.35}"
            ]
          },
          "metadata": {
            "tags": []
          },
          "execution_count": 53
        }
      ]
    },
    {
      "cell_type": "markdown",
      "metadata": {
        "id": "CvIylueN8w_F"
      },
      "source": [
        "# Make interactve for session"
      ]
    },
    {
      "cell_type": "code",
      "metadata": {
        "id": "QU8Ou_yN8pUA",
        "outputId": "dbede6d9-0de2-4d21-ab7e-fd9499e6335b",
        "colab": {
          "base_uri": "https://localhost:8080/",
          "height": 51
        }
      },
      "source": [
        "myName = input(\"Please enter your name: \")\n",
        "myAge = input(\"What about your age: \")"
      ],
      "execution_count": null,
      "outputs": [
        {
          "output_type": "stream",
          "text": [
            "Please enter your name: Niranga\n",
            "What about your age: 20\n"
          ],
          "name": "stdout"
        }
      ]
    },
    {
      "cell_type": "code",
      "metadata": {
        "id": "loKiQzZd95Y9",
        "outputId": "d83de87e-3d00-40bc-c46c-5a8990a07e04",
        "colab": {
          "base_uri": "https://localhost:8080/",
          "height": 34
        }
      },
      "source": [
        "# pring a long message\n",
        "print (''' Hello World.My name is James andI am 20 years old.''')"
      ],
      "execution_count": null,
      "outputs": [
        {
          "output_type": "stream",
          "text": [
            " Hello World.My name is James andI am 20 years old.\n"
          ],
          "name": "stdout"
        }
      ]
    },
    {
      "cell_type": "code",
      "metadata": {
        "id": "JCOdqUhP-NOR",
        "outputId": "25b40a67-955f-44f4-dc25-91f6b17468fb",
        "colab": {
          "base_uri": "https://localhost:8080/",
          "height": 51
        }
      },
      "source": [
        "# If condition\n",
        "userInput = input('Enter 1 or 2: ')\n",
        "if userInput == \"1\":\n",
        "  print (\"Hello World\")\n",
        "  print ('How are you?')\n",
        "elif userInput == \"2\":\n",
        "  print (\"Python Rocks!\")\n",
        "  print ('I love Python')\n",
        "else:\n",
        "  print (\"You did not enter a valid number\")"
      ],
      "execution_count": null,
      "outputs": [
        {
          "output_type": "stream",
          "text": [
            "Enter 1 or 2: 5\n",
            "You did not enter a valid number\n"
          ],
          "name": "stdout"
        }
      ]
    },
    {
      "cell_type": "code",
      "metadata": {
        "id": "5LCenKcU-xtl",
        "outputId": "0b095d54-e337-4d68-cf48-52669f361ec2",
        "colab": {
          "base_uri": "https://localhost:8080/",
          "height": 85
        }
      },
      "source": [
        "#for loop\n",
        "pets = ['cats', 'dogs', 'rabbits', 'hamsters']\n",
        "for myPets in pets:\n",
        "  print (myPets)"
      ],
      "execution_count": null,
      "outputs": [
        {
          "output_type": "stream",
          "text": [
            "cats\n",
            "dogs\n",
            "rabbits\n",
            "hamsters\n"
          ],
          "name": "stdout"
        }
      ]
    },
    {
      "cell_type": "code",
      "metadata": {
        "id": "FsejiwJ5_INV",
        "outputId": "18442e6f-cc02-4dec-aa19-d85987ee5ef5",
        "colab": {
          "base_uri": "https://localhost:8080/",
          "height": 85
        }
      },
      "source": [
        "for index, myPets in enumerate(pets):\n",
        "  print (index, myPets)"
      ],
      "execution_count": null,
      "outputs": [
        {
          "output_type": "stream",
          "text": [
            "0 cats\n",
            "1 dogs\n",
            "2 rabbits\n",
            "3 hamsters\n"
          ],
          "name": "stdout"
        }
      ]
    },
    {
      "cell_type": "code",
      "metadata": {
        "id": "y6JTHexH_O_Z",
        "outputId": "97686f40-711b-40f3-bf65-1506b201acbc",
        "colab": {
          "base_uri": "https://localhost:8080/",
          "height": 102
        }
      },
      "source": [
        "for i in range(5):\n",
        "  print (i) "
      ],
      "execution_count": null,
      "outputs": [
        {
          "output_type": "stream",
          "text": [
            "0\n",
            "1\n",
            "2\n",
            "3\n",
            "4\n"
          ],
          "name": "stdout"
        }
      ]
    },
    {
      "cell_type": "code",
      "metadata": {
        "id": "1X_zz7dW_XcS",
        "outputId": "48684a0a-4c5c-4fb5-839d-d9674e02f2fe",
        "colab": {
          "base_uri": "https://localhost:8080/",
          "height": 102
        }
      },
      "source": [
        "#while loop\n",
        "counter = 5\n",
        "\n",
        "while counter > 0:\n",
        "  print('Counter = ', counter)\n",
        "  counter = counter - 1"
      ],
      "execution_count": null,
      "outputs": [
        {
          "output_type": "stream",
          "text": [
            "Counter =  5\n",
            "Counter =  4\n",
            "Counter =  3\n",
            "Counter =  2\n",
            "Counter =  1\n"
          ],
          "name": "stdout"
        }
      ]
    },
    {
      "cell_type": "code",
      "metadata": {
        "id": "vOyVnVHD_d1b",
        "outputId": "e56a5142-511d-4e2d-eda8-b3190cb59092",
        "colab": {
          "base_uri": "https://localhost:8080/",
          "height": 68
        }
      },
      "source": [
        "#break\n",
        "\n",
        "j = 0\n",
        "for i in range(5):\n",
        "  j += 2\n",
        "  print ('i = ', i, ', j = ', j)\n",
        "  if j == 6:\n",
        "    break"
      ],
      "execution_count": null,
      "outputs": [
        {
          "output_type": "stream",
          "text": [
            "i =  0 , j =  2\n",
            "i =  1 , j =  4\n",
            "i =  2 , j =  6\n"
          ],
          "name": "stdout"
        }
      ]
    },
    {
      "cell_type": "code",
      "metadata": {
        "id": "ntElzo5j_4k0",
        "outputId": "e8a2d43e-47b5-4d6a-dbf4-cf76173100a0",
        "colab": {
          "base_uri": "https://localhost:8080/",
          "height": 255
        }
      },
      "source": [
        "#continue\n",
        "j = 0\n",
        "for i in range(5):\n",
        "  j = j + 2\n",
        "  print ('\\ni = ', i, ', j = ', j)\n",
        "  if j == 6:\n",
        "        continue\n",
        "  print ('I will be skipped over if j=6')"
      ],
      "execution_count": null,
      "outputs": [
        {
          "output_type": "stream",
          "text": [
            "\n",
            "i =  0 , j =  2\n",
            "I will be skipped over if j=6\n",
            "\n",
            "i =  1 , j =  4\n",
            "I will be skipped over if j=6\n",
            "\n",
            "i =  2 , j =  6\n",
            "\n",
            "i =  3 , j =  8\n",
            "I will be skipped over if j=6\n",
            "\n",
            "i =  4 , j =  10\n",
            "I will be skipped over if j=6\n"
          ],
          "name": "stdout"
        }
      ]
    },
    {
      "cell_type": "code",
      "metadata": {
        "id": "R5OrWcH1AeM0"
      },
      "source": [
        "def checkIfPrime (numberToCheck):\n",
        "  for x in range(2, numberToCheck):\n",
        "    if (numberToCheck%x == 0):\n",
        "      return False\n",
        "  return True"
      ],
      "execution_count": null,
      "outputs": []
    },
    {
      "cell_type": "code",
      "metadata": {
        "id": "0Zq3NRMCBJW1"
      },
      "source": [
        "answer = checkIfPrime(13)"
      ],
      "execution_count": null,
      "outputs": []
    },
    {
      "cell_type": "code",
      "metadata": {
        "id": "cHG_FAxUBaEj",
        "outputId": "00abe9f2-0e38-4bbb-a511-6e735d1e5f2c",
        "colab": {
          "base_uri": "https://localhost:8080/",
          "height": 34
        }
      },
      "source": [
        "answer"
      ],
      "execution_count": null,
      "outputs": [
        {
          "output_type": "execute_result",
          "data": {
            "text/plain": [
              "True"
            ]
          },
          "metadata": {
            "tags": []
          },
          "execution_count": 89
        }
      ]
    },
    {
      "cell_type": "code",
      "metadata": {
        "id": "qKTzc_o-BbB1",
        "outputId": "f8c2fe03-e7f9-4ea5-b6f7-8a36c8947f59",
        "colab": {
          "base_uri": "https://localhost:8080/",
          "height": 34
        }
      },
      "source": [
        "checkIfPrime(10)"
      ],
      "execution_count": null,
      "outputs": [
        {
          "output_type": "execute_result",
          "data": {
            "text/plain": [
              "False"
            ]
          },
          "metadata": {
            "tags": []
          },
          "execution_count": 90
        }
      ]
    },
    {
      "cell_type": "code",
      "metadata": {
        "id": "_hEG3oGiBklF"
      },
      "source": [
        "# creating our own module\n",
        "\n",
        "def checkIfPrime (numberToCheck):\n",
        "  for x in range(2, numberToCheck):\n",
        "    if (numberToCheck%x == 0):\n",
        "      return False\n",
        "  return True"
      ],
      "execution_count": null,
      "outputs": []
    },
    {
      "cell_type": "code",
      "metadata": {
        "id": "SN41UGW0B0LI"
      },
      "source": [
        "''' Next, create another Python file and name it\n",
        "useCheckIfPrime.py. Save it on your desktop as well.\n",
        "useCheckIfPrime.py should have the following code.\n",
        "import prime\n",
        "answer = prime.checkIfPrime(13)\n",
        "print (answer) '''"
      ],
      "execution_count": null,
      "outputs": []
    },
    {
      "cell_type": "code",
      "metadata": {
        "id": "x2czSwgmCBw_"
      },
      "source": [
        ""
      ],
      "execution_count": null,
      "outputs": []
    },
    {
      "cell_type": "code",
      "metadata": {
        "id": "CjUShOeQdqhz"
      },
      "source": [
        ""
      ],
      "execution_count": null,
      "outputs": []
    },
    {
      "cell_type": "markdown",
      "metadata": {
        "id": "LfBIDFgid29z"
      },
      "source": [
        "# **Python Command Lines**"
      ]
    },
    {
      "cell_type": "code",
      "metadata": {
        "id": "BamLYW0JdqlH"
      },
      "source": [
        "# This is a comment."
      ],
      "execution_count": null,
      "outputs": []
    },
    {
      "cell_type": "code",
      "metadata": {
        "id": "Dl7N3EVJCB0t",
        "outputId": "e186046f-efeb-433e-de7b-1f3de283943f",
        "colab": {
          "base_uri": "https://localhost:8080/",
          "height": 34
        }
      },
      "source": [
        "2 + 3 - 36 / 2 - 5 \n",
        "# Simple arithmetic."
      ],
      "execution_count": null,
      "outputs": [
        {
          "output_type": "execute_result",
          "data": {
            "text/plain": [
              "-18.0"
            ]
          },
          "metadata": {
            "tags": []
          },
          "execution_count": 2
        }
      ]
    },
    {
      "cell_type": "code",
      "metadata": {
        "id": "xFRSFYA8CB4k",
        "outputId": "afa8f055-86a8-4f44-8269-62fa4464a12f",
        "colab": {
          "base_uri": "https://localhost:8080/",
          "height": 34
        }
      },
      "source": [
        "2**5 \n",
        "# Exponentiation."
      ],
      "execution_count": null,
      "outputs": [
        {
          "output_type": "execute_result",
          "data": {
            "text/plain": [
              "32"
            ]
          },
          "metadata": {
            "tags": []
          },
          "execution_count": 3
        }
      ]
    },
    {
      "cell_type": "code",
      "metadata": {
        "id": "9kkqfEotCB9V",
        "outputId": "abbea02a-6f9e-405e-9a9b-2c6941898a87",
        "colab": {
          "base_uri": "https://localhost:8080/",
          "height": 34
        }
      },
      "source": [
        "2**0.5 \n",
        "# Fractional powers."
      ],
      "execution_count": null,
      "outputs": [
        {
          "output_type": "execute_result",
          "data": {
            "text/plain": [
              "1.4142135623730951"
            ]
          },
          "metadata": {
            "tags": []
          },
          "execution_count": 4
        }
      ]
    },
    {
      "cell_type": "code",
      "metadata": {
        "id": "VfUZ3X6dB1ff"
      },
      "source": [
        "x = 3 # Assign a variable."
      ],
      "execution_count": null,
      "outputs": []
    },
    {
      "cell_type": "code",
      "metadata": {
        "id": "ZG5AQQE7eFot",
        "outputId": "e79b915c-4e96-463b-ac16-a3de6fa49dc0",
        "colab": {
          "base_uri": "https://localhost:8080/",
          "height": 34
        }
      },
      "source": [
        "x**2 + 1 # Work with the variable."
      ],
      "execution_count": null,
      "outputs": [
        {
          "output_type": "execute_result",
          "data": {
            "text/plain": [
              "10"
            ]
          },
          "metadata": {
            "tags": []
          },
          "execution_count": 6
        }
      ]
    },
    {
      "cell_type": "code",
      "metadata": {
        "id": "m5jhwst_eHTs",
        "outputId": "36794e55-24fc-41a5-e1ab-22ab583a9fda",
        "colab": {
          "base_uri": "https://localhost:8080/",
          "height": 34
        }
      },
      "source": [
        "type(x) # x is type (class) integer."
      ],
      "execution_count": null,
      "outputs": [
        {
          "output_type": "execute_result",
          "data": {
            "text/plain": [
              "int"
            ]
          },
          "metadata": {
            "tags": []
          },
          "execution_count": 7
        }
      ]
    },
    {
      "cell_type": "code",
      "metadata": {
        "id": "B3eDjwCXeIxd"
      },
      "source": [
        "x1 = 4.2; x2 = 2.675; # Assign x1 and x2."
      ],
      "execution_count": null,
      "outputs": []
    },
    {
      "cell_type": "code",
      "metadata": {
        "id": "OyEbzk1EeKzA",
        "outputId": "c9a6ce58-f6ca-4973-ce9b-004e352f392d",
        "colab": {
          "base_uri": "https://localhost:8080/",
          "height": 34
        }
      },
      "source": [
        "type(x1) # x1 is float."
      ],
      "execution_count": null,
      "outputs": [
        {
          "output_type": "execute_result",
          "data": {
            "text/plain": [
              "float"
            ]
          },
          "metadata": {
            "tags": []
          },
          "execution_count": 9
        }
      ]
    },
    {
      "cell_type": "code",
      "metadata": {
        "id": "AvxhaOcVeMo2",
        "outputId": "39b120b3-0252-4efb-fea2-d8ae8b46678b",
        "colab": {
          "base_uri": "https://localhost:8080/",
          "height": 34
        }
      },
      "source": [
        "int(x1) # Truncates to integer."
      ],
      "execution_count": null,
      "outputs": [
        {
          "output_type": "execute_result",
          "data": {
            "text/plain": [
              "4"
            ]
          },
          "metadata": {
            "tags": []
          },
          "execution_count": 10
        }
      ]
    },
    {
      "cell_type": "code",
      "metadata": {
        "id": "MGQmaAIVeOTh",
        "outputId": "bd937e52-9f0b-48f2-9436-7a368276022c",
        "colab": {
          "base_uri": "https://localhost:8080/",
          "height": 34
        }
      },
      "source": [
        "-7 // 3 # Floor division."
      ],
      "execution_count": null,
      "outputs": [
        {
          "output_type": "execute_result",
          "data": {
            "text/plain": [
              "-3"
            ]
          },
          "metadata": {
            "tags": []
          },
          "execution_count": 11
        }
      ]
    },
    {
      "cell_type": "code",
      "metadata": {
        "id": "5ziwIM6yeQ8d",
        "outputId": "7e0b06b1-7d4f-40b9-a54c-6df9435cf82f",
        "colab": {
          "base_uri": "https://localhost:8080/",
          "height": 34
        }
      },
      "source": [
        "round(x2, 2) # Floating point arithmetic."
      ],
      "execution_count": null,
      "outputs": [
        {
          "output_type": "execute_result",
          "data": {
            "text/plain": [
              "2.67"
            ]
          },
          "metadata": {
            "tags": []
          },
          "execution_count": 12
        }
      ]
    },
    {
      "cell_type": "code",
      "metadata": {
        "id": "Zi-o66EeeUiD"
      },
      "source": [
        "z1=2 + 3j; z2 = 3 - 1j # Assign z1 and z2. complex numbers"
      ],
      "execution_count": null,
      "outputs": []
    },
    {
      "cell_type": "code",
      "metadata": {
        "id": "IXAvxO1ReYUe",
        "outputId": "f44a48f2-ce51-4b5d-c3ac-602a6632af66",
        "colab": {
          "base_uri": "https://localhost:8080/",
          "height": 34
        }
      },
      "source": [
        "type(z1) # z1 is class complex."
      ],
      "execution_count": null,
      "outputs": [
        {
          "output_type": "execute_result",
          "data": {
            "text/plain": [
              "complex"
            ]
          },
          "metadata": {
            "tags": []
          },
          "execution_count": 14
        }
      ]
    },
    {
      "cell_type": "code",
      "metadata": {
        "id": "s2N70vEDeZ-B",
        "outputId": "81f5a3e1-5396-4e74-b22c-8ca8c00bf9a3",
        "colab": {
          "base_uri": "https://localhost:8080/",
          "height": 34
        }
      },
      "source": [
        "z1**2 - 2 * z2 # Complex arithmetic."
      ],
      "execution_count": null,
      "outputs": [
        {
          "output_type": "execute_result",
          "data": {
            "text/plain": [
              "(-11+14j)"
            ]
          },
          "metadata": {
            "tags": []
          },
          "execution_count": 15
        }
      ]
    },
    {
      "cell_type": "code",
      "metadata": {
        "id": "x9gESYmxeb3U",
        "outputId": "d2b1b292-ef91-4b80-d747-18cb668be3ac",
        "colab": {
          "base_uri": "https://localhost:8080/",
          "height": 34
        }
      },
      "source": [
        "abs(z1) # The modulus."
      ],
      "execution_count": null,
      "outputs": [
        {
          "output_type": "execute_result",
          "data": {
            "text/plain": [
              "3.605551275463989"
            ]
          },
          "metadata": {
            "tags": []
          },
          "execution_count": 16
        }
      ]
    },
    {
      "cell_type": "code",
      "metadata": {
        "id": "HE3DKw0qedtU",
        "outputId": "33cf334b-828d-4ac6-8e03-58b7d431fe61",
        "colab": {
          "base_uri": "https://localhost:8080/",
          "height": 34
        }
      },
      "source": [
        "z1.real # The real part of z1."
      ],
      "execution_count": null,
      "outputs": [
        {
          "output_type": "execute_result",
          "data": {
            "text/plain": [
              "2.0"
            ]
          },
          "metadata": {
            "tags": []
          },
          "execution_count": 17
        }
      ]
    },
    {
      "cell_type": "code",
      "metadata": {
        "id": "ZsPpesFdefdh",
        "outputId": "895700f9-608c-44e7-93a7-0116883f981f",
        "colab": {
          "base_uri": "https://localhost:8080/",
          "height": 34
        }
      },
      "source": [
        "z1.imag # Imaginary part of z1."
      ],
      "execution_count": null,
      "outputs": [
        {
          "output_type": "execute_result",
          "data": {
            "text/plain": [
              "3.0"
            ]
          },
          "metadata": {
            "tags": []
          },
          "execution_count": 18
        }
      ]
    },
    {
      "cell_type": "code",
      "metadata": {
        "id": "T4f6FbZ9ehzi",
        "outputId": "712ab7d8-c92c-43d1-a589-e6661770cddf",
        "colab": {
          "base_uri": "https://localhost:8080/",
          "height": 34
        }
      },
      "source": [
        "z1.conjugate() # The complex conjugate."
      ],
      "execution_count": null,
      "outputs": [
        {
          "output_type": "execute_result",
          "data": {
            "text/plain": [
              "(2-3j)"
            ]
          },
          "metadata": {
            "tags": []
          },
          "execution_count": 19
        }
      ]
    },
    {
      "cell_type": "code",
      "metadata": {
        "id": "YjjGPJVmejuJ"
      },
      "source": [
        "a=[1, 2, 3, 4, 5] # A list of integers."
      ],
      "execution_count": null,
      "outputs": []
    },
    {
      "cell_type": "code",
      "metadata": {
        "id": "c-muKtiYel6S"
      },
      "source": [
        ""
      ],
      "execution_count": null,
      "outputs": []
    },
    {
      "cell_type": "markdown",
      "metadata": {
        "id": "fisgLPFRenqL"
      },
      "source": [
        "# **A Tutorial Introduction to Python**"
      ]
    },
    {
      "cell_type": "code",
      "metadata": {
        "id": "GhenviMqepSO",
        "outputId": "9ab3cc0f-ca9d-4b62-df25-a64fe22bf0f7",
        "colab": {
          "base_uri": "https://localhost:8080/",
          "height": 34
        }
      },
      "source": [
        "type(a) # Determine a is a list."
      ],
      "execution_count": null,
      "outputs": [
        {
          "output_type": "execute_result",
          "data": {
            "text/plain": [
              "list"
            ]
          },
          "metadata": {
            "tags": []
          },
          "execution_count": 21
        }
      ]
    },
    {
      "cell_type": "code",
      "metadata": {
        "id": "8g5VEiUwepXc",
        "outputId": "8ff82f41-aa23-4c3a-d066-7b07b510b82b",
        "colab": {
          "base_uri": "https://localhost:8080/",
          "height": 34
        }
      },
      "source": [
        "a[0] # 1st element, 0 based indexing."
      ],
      "execution_count": null,
      "outputs": [
        {
          "output_type": "execute_result",
          "data": {
            "text/plain": [
              "1"
            ]
          },
          "metadata": {
            "tags": []
          },
          "execution_count": 23
        }
      ]
    },
    {
      "cell_type": "code",
      "metadata": {
        "id": "D1Y8d4qsepbx",
        "outputId": "039c9765-b7c2-4628-fc0e-08157c339314",
        "colab": {
          "base_uri": "https://localhost:8080/",
          "height": 34
        }
      },
      "source": [
        "a[-1] # The last element."
      ],
      "execution_count": null,
      "outputs": [
        {
          "output_type": "execute_result",
          "data": {
            "text/plain": [
              "5"
            ]
          },
          "metadata": {
            "tags": []
          },
          "execution_count": 24
        }
      ]
    },
    {
      "cell_type": "code",
      "metadata": {
        "id": "39G9JGt1epVi",
        "outputId": "e5e89ab9-3309-43f2-8281-7e474f697f9a",
        "colab": {
          "base_uri": "https://localhost:8080/",
          "height": 34
        }
      },
      "source": [
        "len(a) # The number of elements."
      ],
      "execution_count": null,
      "outputs": [
        {
          "output_type": "execute_result",
          "data": {
            "text/plain": [
              "5"
            ]
          },
          "metadata": {
            "tags": []
          },
          "execution_count": 25
        }
      ]
    },
    {
      "cell_type": "code",
      "metadata": {
        "id": "LP_c6IUueyLL",
        "outputId": "3326fba6-34f7-4f30-9787-5cb29718d3dd",
        "colab": {
          "base_uri": "https://localhost:8080/",
          "height": 34
        }
      },
      "source": [
        "min(a) # The smallest element."
      ],
      "execution_count": null,
      "outputs": [
        {
          "output_type": "execute_result",
          "data": {
            "text/plain": [
              "1"
            ]
          },
          "metadata": {
            "tags": []
          },
          "execution_count": 26
        }
      ]
    },
    {
      "cell_type": "code",
      "metadata": {
        "id": "FaKRZbV7ezvT",
        "outputId": "0204ef5b-57b0-4886-f885-a80d067931cf",
        "colab": {
          "base_uri": "https://localhost:8080/",
          "height": 34
        }
      },
      "source": [
        "max(a) # The largest element."
      ],
      "execution_count": null,
      "outputs": [
        {
          "output_type": "execute_result",
          "data": {
            "text/plain": [
              "5"
            ]
          },
          "metadata": {
            "tags": []
          },
          "execution_count": 27
        }
      ]
    },
    {
      "cell_type": "code",
      "metadata": {
        "id": "pfQkJ1k8e1Z_",
        "outputId": "f0f41688-d24c-49b6-b24b-5579db79ad69",
        "colab": {
          "base_uri": "https://localhost:8080/",
          "height": 34
        }
      },
      "source": [
        "5 in a # True, 5 is in the list a."
      ],
      "execution_count": null,
      "outputs": [
        {
          "output_type": "execute_result",
          "data": {
            "text/plain": [
              "True"
            ]
          },
          "metadata": {
            "tags": []
          },
          "execution_count": 28
        }
      ]
    },
    {
      "cell_type": "code",
      "metadata": {
        "id": "3IUlYxhAe4Pc",
        "outputId": "51a4200e-0fda-4918-f3e0-caae948003a2",
        "colab": {
          "base_uri": "https://localhost:8080/",
          "height": 34
        }
      },
      "source": [
        "2 * a # [1,2,3,4,5,1,2,3,4,5]."
      ],
      "execution_count": null,
      "outputs": [
        {
          "output_type": "execute_result",
          "data": {
            "text/plain": [
              "[1, 2, 3, 4, 5, 1, 2, 3, 4, 5]"
            ]
          },
          "metadata": {
            "tags": []
          },
          "execution_count": 29
        }
      ]
    },
    {
      "cell_type": "code",
      "metadata": {
        "id": "OSDreFP-e7Ea"
      },
      "source": [
        "a.append(6) # Now a=[1,2,3,4,5,6]."
      ],
      "execution_count": null,
      "outputs": []
    },
    {
      "cell_type": "code",
      "metadata": {
        "id": "aRUIiTp1e9QS"
      },
      "source": [
        "a.remove(6) # Removes the first 6 found."
      ],
      "execution_count": null,
      "outputs": []
    },
    {
      "cell_type": "code",
      "metadata": {
        "id": "fb8ZtdKTe-5S",
        "outputId": "25f208f0-19e1-4245-cf85-4e130d2c4475",
        "colab": {
          "base_uri": "https://localhost:8080/",
          "height": 34
        }
      },
      "source": [
        "print(a) # Prints the list\n",
        "a=[1,2,3,4,5]"
      ],
      "execution_count": null,
      "outputs": [
        {
          "output_type": "stream",
          "text": [
            "[1, 2, 3, 4, 5]\n"
          ],
          "name": "stdout"
        }
      ]
    },
    {
      "cell_type": "code",
      "metadata": {
        "id": "pcuzVPBlfBF2",
        "outputId": "d64b3d72-7b7d-4bae-9f8c-ed06b4917a9a",
        "colab": {
          "base_uri": "https://localhost:8080/",
          "height": 34
        }
      },
      "source": [
        "a[1 : 3] # Slice to get the list [2,3]."
      ],
      "execution_count": null,
      "outputs": [
        {
          "output_type": "execute_result",
          "data": {
            "text/plain": [
              "[2, 3]"
            ]
          },
          "metadata": {
            "tags": []
          },
          "execution_count": 34
        }
      ]
    },
    {
      "cell_type": "code",
      "metadata": {
        "id": "rU3PxadzfEvf",
        "outputId": "e8988d73-dfc2-48ce-8c92-27ec833d2a53",
        "colab": {
          "base_uri": "https://localhost:8080/",
          "height": 34
        }
      },
      "source": [
        "range(10) # A range object zero to nine."
      ],
      "execution_count": null,
      "outputs": [
        {
          "output_type": "execute_result",
          "data": {
            "text/plain": [
              "range(0, 10)"
            ]
          },
          "metadata": {
            "tags": []
          },
          "execution_count": 35
        }
      ]
    },
    {
      "cell_type": "code",
      "metadata": {
        "id": "yJiiB7DrfHFm",
        "outputId": "0a74ce61-ed1d-4f81-977d-1e414b52d271",
        "colab": {
          "base_uri": "https://localhost:8080/",
          "height": 34
        }
      },
      "source": [
        "\n",
        "list(range(5)) # A list [0,1,2,3,4]."
      ],
      "execution_count": null,
      "outputs": [
        {
          "output_type": "execute_result",
          "data": {
            "text/plain": [
              "[0, 1, 2, 3, 4]"
            ]
          },
          "metadata": {
            "tags": []
          },
          "execution_count": 36
        }
      ]
    },
    {
      "cell_type": "code",
      "metadata": {
        "id": "3UnuiCuifMN8",
        "outputId": "f1d73091-6a5b-42e9-e42f-abfe8635eefe",
        "colab": {
          "base_uri": "https://localhost:8080/",
          "height": 34
        }
      },
      "source": [
        "list(range(4, 9)) # A list [4,5,6,7,8]."
      ],
      "execution_count": null,
      "outputs": [
        {
          "output_type": "execute_result",
          "data": {
            "text/plain": [
              "[4, 5, 6, 7, 8]"
            ]
          },
          "metadata": {
            "tags": []
          },
          "execution_count": 37
        }
      ]
    },
    {
      "cell_type": "code",
      "metadata": {
        "id": "5t8OYODNfOlk"
      },
      "source": [
        "A=[[1, 2], [3, 4]] # A list of lists."
      ],
      "execution_count": null,
      "outputs": []
    },
    {
      "cell_type": "code",
      "metadata": {
        "id": "20zMGdU1fRJr",
        "outputId": "6b6b3ed7-a5f8-4c19-fc8a-bcf5e8260418",
        "colab": {
          "base_uri": "https://localhost:8080/",
          "height": 34
        }
      },
      "source": [
        "A[0] # The first list [1,2]."
      ],
      "execution_count": null,
      "outputs": [
        {
          "output_type": "execute_result",
          "data": {
            "text/plain": [
              "[1, 2]"
            ]
          },
          "metadata": {
            "tags": []
          },
          "execution_count": 39
        }
      ]
    },
    {
      "cell_type": "code",
      "metadata": {
        "id": "3sXBEhbafS1n",
        "outputId": "21401802-4735-4852-9361-9caaab8e9a4a",
        "colab": {
          "base_uri": "https://localhost:8080/",
          "height": 34
        }
      },
      "source": [
        "A[0][1] # Second element in list 1."
      ],
      "execution_count": null,
      "outputs": [
        {
          "output_type": "execute_result",
          "data": {
            "text/plain": [
              "2"
            ]
          },
          "metadata": {
            "tags": []
          },
          "execution_count": 40
        }
      ]
    },
    {
      "cell_type": "code",
      "metadata": {
        "id": "gvIZC-pqfUxP"
      },
      "source": [
        "import math # # Import all under name space math."
      ],
      "execution_count": null,
      "outputs": []
    },
    {
      "cell_type": "code",
      "metadata": {
        "id": "5AuTa3j3fXfN"
      },
      "source": [
        "from math import sin # Import sine command only."
      ],
      "execution_count": null,
      "outputs": []
    },
    {
      "cell_type": "code",
      "metadata": {
        "id": "SFq3mDm6fbFC"
      },
      "source": [
        "from math import * # Import all math commands."
      ],
      "execution_count": null,
      "outputs": []
    },
    {
      "cell_type": "code",
      "metadata": {
        "id": "7Ik8prV3fdOL",
        "outputId": "38cbdbab-1448-4553-f239-d384bbe6194a",
        "colab": {
          "base_uri": "https://localhost:8080/",
          "height": 34
        }
      },
      "source": [
        "sin(pi) # Sine function."
      ],
      "execution_count": null,
      "outputs": [
        {
          "output_type": "execute_result",
          "data": {
            "text/plain": [
              "1.2246467991473532e-16"
            ]
          },
          "metadata": {
            "tags": []
          },
          "execution_count": 44
        }
      ]
    },
    {
      "cell_type": "code",
      "metadata": {
        "id": "wdZa5kvDfezl",
        "outputId": "bf575bca-7f18-4d4f-8e7e-6b26d26cff1b",
        "colab": {
          "base_uri": "https://localhost:8080/",
          "height": 34
        }
      },
      "source": [
        "acos(0) # Inverse cosine."
      ],
      "execution_count": null,
      "outputs": [
        {
          "output_type": "execute_result",
          "data": {
            "text/plain": [
              "1.5707963267948966"
            ]
          },
          "metadata": {
            "tags": []
          },
          "execution_count": 45
        }
      ]
    },
    {
      "cell_type": "code",
      "metadata": {
        "id": "P1k2-Yghfgxb",
        "outputId": "b0d53438-db5d-4d8e-8f9c-c40495e9e5ee",
        "colab": {
          "base_uri": "https://localhost:8080/",
          "height": 34
        }
      },
      "source": [
        "exp(0.3) # Exponential function."
      ],
      "execution_count": null,
      "outputs": [
        {
          "output_type": "execute_result",
          "data": {
            "text/plain": [
              "1.3498588075760032"
            ]
          },
          "metadata": {
            "tags": []
          },
          "execution_count": 46
        }
      ]
    },
    {
      "cell_type": "code",
      "metadata": {
        "id": "Q0kGj7LlfjL3",
        "outputId": "06e6d5ff-010a-437c-bac0-4e38d6f4dba1",
        "colab": {
          "base_uri": "https://localhost:8080/",
          "height": 34
        }
      },
      "source": [
        "log10(0.3) # Log base 10."
      ],
      "execution_count": null,
      "outputs": [
        {
          "output_type": "execute_result",
          "data": {
            "text/plain": [
              "-0.5228787452803376"
            ]
          },
          "metadata": {
            "tags": []
          },
          "execution_count": 47
        }
      ]
    },
    {
      "cell_type": "code",
      "metadata": {
        "id": "sVLzCK1DflOr",
        "outputId": "33b3ebe2-69b1-46b7-888b-3d0152dab653",
        "colab": {
          "base_uri": "https://localhost:8080/",
          "height": 34
        }
      },
      "source": [
        "floor(2.35) # Return floor as integer."
      ],
      "execution_count": null,
      "outputs": [
        {
          "output_type": "execute_result",
          "data": {
            "text/plain": [
              "2"
            ]
          },
          "metadata": {
            "tags": []
          },
          "execution_count": 48
        }
      ]
    },
    {
      "cell_type": "code",
      "metadata": {
        "id": "vjOzxi9Kfm-y"
      },
      "source": [
        ""
      ],
      "execution_count": null,
      "outputs": []
    }
  ]
}